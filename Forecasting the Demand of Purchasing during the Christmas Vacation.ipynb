{
 "cells": [
  {
   "cell_type": "markdown",
   "metadata": {
    "id": "EpyTIP3Qk0R1"
   },
   "source": [
    "## Forecasting the Demand of Purchasing during the Christmas Vacation."
   ]
  },
  {
   "cell_type": "markdown",
   "metadata": {
    "id": "weeWUm4ET9Eb"
   },
   "source": [
    "![Imgur](https://i.imgur.com/r1U9dHD.png) "
   ]
  },
  {
   "cell_type": "markdown",
   "metadata": {
    "id": "Jgo1dpsP7a2e"
   },
   "source": [
    "Problem:For individual assignment 1, please design your neural network with two hidden layers. At the same time, you can change the parameters for improving accuracy. Please explain what to do in Colab notebook one by one."
   ]
  },
  {
   "cell_type": "markdown",
   "metadata": {
    "id": "QiKywKk5k0R2"
   },
   "source": [
    "## Business Objectives : Demand Forecasting\n",
    "\n",
    "This case study aims to identify <font color='green'>**the demand of purchasing** </font>  during the Christmas vacation. The cookie store can use the prediction result to send coupons to those customers with lower desire to purchase and thus improve the sale during the Christmas Vacation. It can also be used to foresee how many cookies are needed in the coming Christmas Vacation and therefore help the store better prepare for the busy season."
   ]
  },
  {
   "cell_type": "markdown",
   "metadata": {
    "id": "QLJRcr4uk0R1"
   },
   "source": [
    "![Imgur](https://i.imgur.com/t2G4BwY.png)\n",
    "\n",
    "**Credit:** Procurement Academy"
   ]
  },
  {
   "cell_type": "markdown",
   "metadata": {
    "id": "BzkGYNWxk0R3"
   },
   "source": [
    "### Business Problem and Question\n",
    "\n",
    "Please <font color='green'>**forecast the demand of purchase of a customer in the coming Christmas Vacation given his/her previous purchase information** </font> by using Artificial Neural Networks. You can find the dataset in the data folder, and explain the solution step by step below:"
   ]
  },
  {
   "cell_type": "code",
   "execution_count": 26,
   "metadata": {
    "colab": {
     "base_uri": "https://localhost:8080/"
    },
    "id": "d7gZYiA5SFjl",
    "outputId": "ac7dd8ca-3ef7-4fe3-dc42-7e52818e58ac"
   },
   "outputs": [
    {
     "name": "stdout",
     "output_type": "stream",
     "text": [
      "Drive already mounted at /content/drive; to attempt to forcibly remount, call drive.mount(\"/content/drive\", force_remount=True).\n"
     ]
    }
   ],
   "source": [
    "#Mount with Google Drive\n",
    "from google.colab import drive\n",
    "drive.mount('/content/drive')"
   ]
  },
  {
   "cell_type": "markdown",
   "metadata": {
    "id": "zFJ7mnY0hR4V"
   },
   "source": [
    "You can os then you can all your dataset as well. "
   ]
  },
  {
   "cell_type": "code",
   "execution_count": 27,
   "metadata": {
    "id": "KzUmucg58v2B"
   },
   "outputs": [],
   "source": [
    "import os \n",
    "os.chdir('/content/drive/MyDrive/deep-learning/Individual Assignment 1/Dataset/Dataset')"
   ]
  },
  {
   "cell_type": "markdown",
   "metadata": {
    "id": "pUIyVMRPKHIv"
   },
   "source": [
    "Please explain everything in the detail below."
   ]
  },
  {
   "cell_type": "markdown",
   "metadata": {
    "id": "D6p_7jX4k0R3"
   },
   "source": [
    "### Part1: Explore the data"
   ]
  },
  {
   "cell_type": "code",
   "execution_count": 28,
   "metadata": {
    "id": "fUGyx7bzk0R4"
   },
   "outputs": [],
   "source": [
    "import numpy as np\n",
    "import pandas as pd \n",
    "\n",
    "#import the data as a pandas dataframe\n",
    "cookie_data = pd.read_excel(\"cookie_business.xlsx\", sheet_name=\"Sheet1\")"
   ]
  },
  {
   "cell_type": "code",
   "execution_count": 29,
   "metadata": {
    "colab": {
     "base_uri": "https://localhost:8080/"
    },
    "id": "e5PBOVUJShHA",
    "outputId": "b6aa69a3-40b1-49ab-e748-e45a4d2361a5"
   },
   "outputs": [
    {
     "data": {
      "text/plain": [
       "Index(['Age', 'Postcode', 'Gender', 'Favourite Cookie',\n",
       "       'Cookies bought frequency during Chrismas vaccations in the last 5 years'],\n",
       "      dtype='object')"
      ]
     },
     "execution_count": 29,
     "metadata": {},
     "output_type": "execute_result"
    }
   ],
   "source": [
    "cookie_data.columns"
   ]
  },
  {
   "cell_type": "code",
   "execution_count": 30,
   "metadata": {
    "colab": {
     "base_uri": "https://localhost:8080/",
     "height": 206
    },
    "id": "nIBMjf_wk0R8",
    "outputId": "4ecedded-8035-49d9-d36a-f9dcae987451"
   },
   "outputs": [
    {
     "data": {
      "text/html": [
       "\n",
       "  <div id=\"df-9058a8d7-b3b0-489b-9031-1838016ee4c9\">\n",
       "    <div class=\"colab-df-container\">\n",
       "      <div>\n",
       "<style scoped>\n",
       "    .dataframe tbody tr th:only-of-type {\n",
       "        vertical-align: middle;\n",
       "    }\n",
       "\n",
       "    .dataframe tbody tr th {\n",
       "        vertical-align: top;\n",
       "    }\n",
       "\n",
       "    .dataframe thead th {\n",
       "        text-align: right;\n",
       "    }\n",
       "</style>\n",
       "<table border=\"1\" class=\"dataframe\">\n",
       "  <thead>\n",
       "    <tr style=\"text-align: right;\">\n",
       "      <th></th>\n",
       "      <th>Age</th>\n",
       "      <th>Postcode</th>\n",
       "      <th>Gender</th>\n",
       "      <th>Favourite Cookie</th>\n",
       "      <th>Cookies bought frequency during Chrismas vaccations in the last 5 years</th>\n",
       "    </tr>\n",
       "  </thead>\n",
       "  <tbody>\n",
       "    <tr>\n",
       "      <th>0</th>\n",
       "      <td>22</td>\n",
       "      <td>2010</td>\n",
       "      <td>0</td>\n",
       "      <td>1</td>\n",
       "      <td>0.08</td>\n",
       "    </tr>\n",
       "    <tr>\n",
       "      <th>1</th>\n",
       "      <td>30</td>\n",
       "      <td>2010</td>\n",
       "      <td>0</td>\n",
       "      <td>1</td>\n",
       "      <td>0.24</td>\n",
       "    </tr>\n",
       "    <tr>\n",
       "      <th>2</th>\n",
       "      <td>60</td>\n",
       "      <td>2000</td>\n",
       "      <td>1</td>\n",
       "      <td>1</td>\n",
       "      <td>0.04</td>\n",
       "    </tr>\n",
       "    <tr>\n",
       "      <th>3</th>\n",
       "      <td>53</td>\n",
       "      <td>2010</td>\n",
       "      <td>1</td>\n",
       "      <td>1</td>\n",
       "      <td>0.04</td>\n",
       "    </tr>\n",
       "    <tr>\n",
       "      <th>4</th>\n",
       "      <td>37</td>\n",
       "      <td>2000</td>\n",
       "      <td>0</td>\n",
       "      <td>1</td>\n",
       "      <td>0.08</td>\n",
       "    </tr>\n",
       "  </tbody>\n",
       "</table>\n",
       "</div>\n",
       "      <button class=\"colab-df-convert\" onclick=\"convertToInteractive('df-9058a8d7-b3b0-489b-9031-1838016ee4c9')\"\n",
       "              title=\"Convert this dataframe to an interactive table.\"\n",
       "              style=\"display:none;\">\n",
       "        \n",
       "  <svg xmlns=\"http://www.w3.org/2000/svg\" height=\"24px\"viewBox=\"0 0 24 24\"\n",
       "       width=\"24px\">\n",
       "    <path d=\"M0 0h24v24H0V0z\" fill=\"none\"/>\n",
       "    <path d=\"M18.56 5.44l.94 2.06.94-2.06 2.06-.94-2.06-.94-.94-2.06-.94 2.06-2.06.94zm-11 1L8.5 8.5l.94-2.06 2.06-.94-2.06-.94L8.5 2.5l-.94 2.06-2.06.94zm10 10l.94 2.06.94-2.06 2.06-.94-2.06-.94-.94-2.06-.94 2.06-2.06.94z\"/><path d=\"M17.41 7.96l-1.37-1.37c-.4-.4-.92-.59-1.43-.59-.52 0-1.04.2-1.43.59L10.3 9.45l-7.72 7.72c-.78.78-.78 2.05 0 2.83L4 21.41c.39.39.9.59 1.41.59.51 0 1.02-.2 1.41-.59l7.78-7.78 2.81-2.81c.8-.78.8-2.07 0-2.86zM5.41 20L4 18.59l7.72-7.72 1.47 1.35L5.41 20z\"/>\n",
       "  </svg>\n",
       "      </button>\n",
       "      \n",
       "  <style>\n",
       "    .colab-df-container {\n",
       "      display:flex;\n",
       "      flex-wrap:wrap;\n",
       "      gap: 12px;\n",
       "    }\n",
       "\n",
       "    .colab-df-convert {\n",
       "      background-color: #E8F0FE;\n",
       "      border: none;\n",
       "      border-radius: 50%;\n",
       "      cursor: pointer;\n",
       "      display: none;\n",
       "      fill: #1967D2;\n",
       "      height: 32px;\n",
       "      padding: 0 0 0 0;\n",
       "      width: 32px;\n",
       "    }\n",
       "\n",
       "    .colab-df-convert:hover {\n",
       "      background-color: #E2EBFA;\n",
       "      box-shadow: 0px 1px 2px rgba(60, 64, 67, 0.3), 0px 1px 3px 1px rgba(60, 64, 67, 0.15);\n",
       "      fill: #174EA6;\n",
       "    }\n",
       "\n",
       "    [theme=dark] .colab-df-convert {\n",
       "      background-color: #3B4455;\n",
       "      fill: #D2E3FC;\n",
       "    }\n",
       "\n",
       "    [theme=dark] .colab-df-convert:hover {\n",
       "      background-color: #434B5C;\n",
       "      box-shadow: 0px 1px 3px 1px rgba(0, 0, 0, 0.15);\n",
       "      filter: drop-shadow(0px 1px 2px rgba(0, 0, 0, 0.3));\n",
       "      fill: #FFFFFF;\n",
       "    }\n",
       "  </style>\n",
       "\n",
       "      <script>\n",
       "        const buttonEl =\n",
       "          document.querySelector('#df-9058a8d7-b3b0-489b-9031-1838016ee4c9 button.colab-df-convert');\n",
       "        buttonEl.style.display =\n",
       "          google.colab.kernel.accessAllowed ? 'block' : 'none';\n",
       "\n",
       "        async function convertToInteractive(key) {\n",
       "          const element = document.querySelector('#df-9058a8d7-b3b0-489b-9031-1838016ee4c9');\n",
       "          const dataTable =\n",
       "            await google.colab.kernel.invokeFunction('convertToInteractive',\n",
       "                                                     [key], {});\n",
       "          if (!dataTable) return;\n",
       "\n",
       "          const docLinkHtml = 'Like what you see? Visit the ' +\n",
       "            '<a target=\"_blank\" href=https://colab.research.google.com/notebooks/data_table.ipynb>data table notebook</a>'\n",
       "            + ' to learn more about interactive tables.';\n",
       "          element.innerHTML = '';\n",
       "          dataTable['output_type'] = 'display_data';\n",
       "          await google.colab.output.renderOutput(dataTable, element);\n",
       "          const docLink = document.createElement('div');\n",
       "          docLink.innerHTML = docLinkHtml;\n",
       "          element.appendChild(docLink);\n",
       "        }\n",
       "      </script>\n",
       "    </div>\n",
       "  </div>\n",
       "  "
      ],
      "text/plain": [
       "   Age  Postcode  Gender  Favourite Cookie  \\\n",
       "0   22      2010       0                 1   \n",
       "1   30      2010       0                 1   \n",
       "2   60      2000       1                 1   \n",
       "3   53      2010       1                 1   \n",
       "4   37      2000       0                 1   \n",
       "\n",
       "   Cookies bought frequency during Chrismas vaccations in the last 5 years  \n",
       "0                                                                     0.08  \n",
       "1                                                                     0.24  \n",
       "2                                                                     0.04  \n",
       "3                                                                     0.04  \n",
       "4                                                                     0.08  "
      ]
     },
     "execution_count": 30,
     "metadata": {},
     "output_type": "execute_result"
    }
   ],
   "source": [
    "#View the head of the data\n",
    "cookie_data.head()"
   ]
  },
  {
   "cell_type": "code",
   "execution_count": 31,
   "metadata": {
    "id": "lpZlb0CznrWg"
   },
   "outputs": [],
   "source": [
    "cookie_data=cookie_data.drop(\"Postcode\",axis=1)\n",
    "cookie_data=cookie_data.drop(\"Favourite Cookie\",axis=1)\n",
    "cookie_data[\"Age\"]/=100"
   ]
  },
  {
   "cell_type": "code",
   "execution_count": 32,
   "metadata": {
    "colab": {
     "base_uri": "https://localhost:8080/"
    },
    "id": "aj80zFgtk0R_",
    "outputId": "1c2c660f-8f65-4fa7-a4fc-23159a27f45b"
   },
   "outputs": [
    {
     "data": {
      "text/plain": [
       "(46, 3)"
      ]
     },
     "execution_count": 32,
     "metadata": {},
     "output_type": "execute_result"
    }
   ],
   "source": [
    "#What's the demension of the data\n",
    "cookie_data.shape"
   ]
  },
  {
   "cell_type": "code",
   "execution_count": 33,
   "metadata": {
    "colab": {
     "base_uri": "https://localhost:8080/",
     "height": 238
    },
    "id": "OOU7p7MxShHP",
    "outputId": "eb30703d-15ce-4511-9dc8-d289ea4c3a26"
   },
   "outputs": [
    {
     "data": {
      "text/html": [
       "\n",
       "  <div id=\"df-7e696141-5944-4ccb-b40b-6d6f56787cae\">\n",
       "    <div class=\"colab-df-container\">\n",
       "      <div>\n",
       "<style scoped>\n",
       "    .dataframe tbody tr th:only-of-type {\n",
       "        vertical-align: middle;\n",
       "    }\n",
       "\n",
       "    .dataframe tbody tr th {\n",
       "        vertical-align: top;\n",
       "    }\n",
       "\n",
       "    .dataframe thead th {\n",
       "        text-align: right;\n",
       "    }\n",
       "</style>\n",
       "<table border=\"1\" class=\"dataframe\">\n",
       "  <thead>\n",
       "    <tr style=\"text-align: right;\">\n",
       "      <th></th>\n",
       "      <th>Description</th>\n",
       "    </tr>\n",
       "    <tr>\n",
       "      <th>Column Name</th>\n",
       "      <th></th>\n",
       "    </tr>\n",
       "  </thead>\n",
       "  <tbody>\n",
       "    <tr>\n",
       "      <th>Age</th>\n",
       "      <td>Customer Age</td>\n",
       "    </tr>\n",
       "    <tr>\n",
       "      <th>Postcode</th>\n",
       "      <td>Customer Postcode</td>\n",
       "    </tr>\n",
       "    <tr>\n",
       "      <th>Gender</th>\n",
       "      <td>(0,1) 1 for Female</td>\n",
       "    </tr>\n",
       "    <tr>\n",
       "      <th>Favorite Cookie</th>\n",
       "      <td>Favorite Cookie Type</td>\n",
       "    </tr>\n",
       "    <tr>\n",
       "      <th>Cookies Purchase Frequency</th>\n",
       "      <td>Cookies purchase frequency during Christmas vacations in the last 5 years</td>\n",
       "    </tr>\n",
       "  </tbody>\n",
       "</table>\n",
       "</div>\n",
       "      <button class=\"colab-df-convert\" onclick=\"convertToInteractive('df-7e696141-5944-4ccb-b40b-6d6f56787cae')\"\n",
       "              title=\"Convert this dataframe to an interactive table.\"\n",
       "              style=\"display:none;\">\n",
       "        \n",
       "  <svg xmlns=\"http://www.w3.org/2000/svg\" height=\"24px\"viewBox=\"0 0 24 24\"\n",
       "       width=\"24px\">\n",
       "    <path d=\"M0 0h24v24H0V0z\" fill=\"none\"/>\n",
       "    <path d=\"M18.56 5.44l.94 2.06.94-2.06 2.06-.94-2.06-.94-.94-2.06-.94 2.06-2.06.94zm-11 1L8.5 8.5l.94-2.06 2.06-.94-2.06-.94L8.5 2.5l-.94 2.06-2.06.94zm10 10l.94 2.06.94-2.06 2.06-.94-2.06-.94-.94-2.06-.94 2.06-2.06.94z\"/><path d=\"M17.41 7.96l-1.37-1.37c-.4-.4-.92-.59-1.43-.59-.52 0-1.04.2-1.43.59L10.3 9.45l-7.72 7.72c-.78.78-.78 2.05 0 2.83L4 21.41c.39.39.9.59 1.41.59.51 0 1.02-.2 1.41-.59l7.78-7.78 2.81-2.81c.8-.78.8-2.07 0-2.86zM5.41 20L4 18.59l7.72-7.72 1.47 1.35L5.41 20z\"/>\n",
       "  </svg>\n",
       "      </button>\n",
       "      \n",
       "  <style>\n",
       "    .colab-df-container {\n",
       "      display:flex;\n",
       "      flex-wrap:wrap;\n",
       "      gap: 12px;\n",
       "    }\n",
       "\n",
       "    .colab-df-convert {\n",
       "      background-color: #E8F0FE;\n",
       "      border: none;\n",
       "      border-radius: 50%;\n",
       "      cursor: pointer;\n",
       "      display: none;\n",
       "      fill: #1967D2;\n",
       "      height: 32px;\n",
       "      padding: 0 0 0 0;\n",
       "      width: 32px;\n",
       "    }\n",
       "\n",
       "    .colab-df-convert:hover {\n",
       "      background-color: #E2EBFA;\n",
       "      box-shadow: 0px 1px 2px rgba(60, 64, 67, 0.3), 0px 1px 3px 1px rgba(60, 64, 67, 0.15);\n",
       "      fill: #174EA6;\n",
       "    }\n",
       "\n",
       "    [theme=dark] .colab-df-convert {\n",
       "      background-color: #3B4455;\n",
       "      fill: #D2E3FC;\n",
       "    }\n",
       "\n",
       "    [theme=dark] .colab-df-convert:hover {\n",
       "      background-color: #434B5C;\n",
       "      box-shadow: 0px 1px 3px 1px rgba(0, 0, 0, 0.15);\n",
       "      filter: drop-shadow(0px 1px 2px rgba(0, 0, 0, 0.3));\n",
       "      fill: #FFFFFF;\n",
       "    }\n",
       "  </style>\n",
       "\n",
       "      <script>\n",
       "        const buttonEl =\n",
       "          document.querySelector('#df-7e696141-5944-4ccb-b40b-6d6f56787cae button.colab-df-convert');\n",
       "        buttonEl.style.display =\n",
       "          google.colab.kernel.accessAllowed ? 'block' : 'none';\n",
       "\n",
       "        async function convertToInteractive(key) {\n",
       "          const element = document.querySelector('#df-7e696141-5944-4ccb-b40b-6d6f56787cae');\n",
       "          const dataTable =\n",
       "            await google.colab.kernel.invokeFunction('convertToInteractive',\n",
       "                                                     [key], {});\n",
       "          if (!dataTable) return;\n",
       "\n",
       "          const docLinkHtml = 'Like what you see? Visit the ' +\n",
       "            '<a target=\"_blank\" href=https://colab.research.google.com/notebooks/data_table.ipynb>data table notebook</a>'\n",
       "            + ' to learn more about interactive tables.';\n",
       "          element.innerHTML = '';\n",
       "          dataTable['output_type'] = 'display_data';\n",
       "          await google.colab.output.renderOutput(dataTable, element);\n",
       "          const docLink = document.createElement('div');\n",
       "          docLink.innerHTML = docLinkHtml;\n",
       "          element.appendChild(docLink);\n",
       "        }\n",
       "      </script>\n",
       "    </div>\n",
       "  </div>\n",
       "  "
      ],
      "text/plain": [
       "                                                                                           Description\n",
       "Column Name                                                                                           \n",
       "Age                                                                                       Customer Age\n",
       "Postcode                                                                             Customer Postcode\n",
       "Gender                                                                              (0,1) 1 for Female\n",
       "Favorite Cookie                                                                   Favorite Cookie Type\n",
       "Cookies Purchase Frequency   Cookies purchase frequency during Christmas vacations in the last 5 years"
      ]
     },
     "execution_count": 33,
     "metadata": {},
     "output_type": "execute_result"
    }
   ],
   "source": [
    "#Column Description is shown below\n",
    "pd.set_option('max_colwidth', 100)\n",
    "pd.read_csv('Cookies Column Description.csv', sep = ';', index_col = 0)"
   ]
  },
  {
   "cell_type": "markdown",
   "metadata": {
    "id": "N9D_F0JVQj0W"
   },
   "source": [
    "<font color='red'>**Plese design a neural network model yourself** </font>"
   ]
  },
  {
   "cell_type": "markdown",
   "metadata": {
    "id": "kTFNlaaIk0SF"
   },
   "source": [
    "### Part2: Design a neural network by yourself"
   ]
  },
  {
   "cell_type": "code",
   "execution_count": 34,
   "metadata": {
    "id": "RxIoIpT7k0SC"
   },
   "outputs": [],
   "source": [
    "#Split the data into training(80%) and testing(20%) sets\n",
    "all_index = np.array(cookie_data.index)\n",
    "train_index = np.random.choice(all_index,size=int(len(all_index)*0.8),replace=False)\n",
    "test_index = np.setdiff1d(all_index,train_index)\n",
    "train_data = cookie_data.loc[train_index,]\n",
    "test_data = cookie_data.loc[test_index,]\n"
   ]
  },
  {
   "cell_type": "markdown",
   "metadata": {
    "id": "2loIoX44iLst"
   },
   "source": [
    "## ***Q1: Please design a neural network with 2 hidden layers***\n",
    "You can set the number of neurons for each layer. "
   ]
  },
  {
   "cell_type": "code",
   "execution_count": 35,
   "metadata": {
    "colab": {
     "base_uri": "https://localhost:8080/"
    },
    "id": "c3TCAJcOg_kG",
    "outputId": "916660e8-eb8f-4e12-a20f-62f45258773e"
   },
   "outputs": [
    {
     "name": "stdout",
     "output_type": "stream",
     "text": [
      "Training MSE:  0.1460628933355777\n",
      "Test MSE: 0.24209117178403597\n"
     ]
    }
   ],
   "source": [
    "#Design a two hidden layers of neural networks by yourself\n",
    "def my_net(train_data,test_data):\n",
    "    def relu(x,deriv=False):\n",
    "        if(deriv==True):\n",
    "            return (x>0)+(x<=0)*0.01\n",
    "        return np.multiply((x>0),x) + np.multiply((x<=0)*0.01,x)\n",
    "\n",
    "    X =  train_data.iloc[:,0:-1].values\n",
    "    y = train_data.iloc[:,-1].values\n",
    "    y = np.reshape(y,(train_data.shape[0],1))\n",
    "    w0 = 2*np.random.random((2,10))-1\n",
    "    w1 = 2*np.random.random((10,2))-1\n",
    "    w2 = 2*np.random.random((2,1))-1\n",
    "    for j in range(100):\n",
    "        a0 = X\n",
    "        a1 = relu(np.dot(a0,w0))\n",
    "        a2 = relu(np.dot(a1,w1))\n",
    "        a3=  relu(np.dot(a2,w2))\n",
    "\n",
    "        a3_error = y-a3\n",
    "        a3_delta=a3_error*relu(a3,deriv=True)\n",
    "\n",
    "        a2_error = a3_delta.dot(w2.T)\n",
    "        a2_delta = a2_error*relu(a2,deriv=True)\n",
    "        \n",
    "        a1_error = a2_delta.dot(w1.T)\n",
    "        a1_delta = a1_error*relu(a1,deriv=True)\n",
    "\n",
    "        w2 += a2.T.dot(a3_delta)\n",
    "        w1 += a1.T.dot(a2_delta)\n",
    "        w0 += a0.T.dot(a1_delta)\n",
    "\n",
    "    print(\"Training MSE: \",((a2-y)**2).sum()/len(a2))\n",
    "    X = test_data.iloc[:,0:-1].values           \n",
    "    y = test_data.iloc[-1].values\n",
    "    a0 = X\n",
    "    a1 = relu(np.dot(a0,w0))\n",
    "    a2 = relu(np.dot(a1,w1))\n",
    "    a3 = relu(np.dot(a2,w2))\n",
    "    a3_error = y-a3\n",
    "    \n",
    "    return (np.mean(a3_error**2))\n",
    "    #return(np.mean(abs(a2_error)))\n",
    "\n",
    "my_score = my_net(train_data,test_data)\n",
    "print('Test MSE: ' + str(my_score))"
   ]
  },
  {
   "cell_type": "markdown",
   "metadata": {
    "id": "-Kilo4MV7Q7l"
   },
   "source": [
    "Note:  It is a 2 hidden layers neural network, first layer has 10 nodes and second layer has 2 nodes.The output MSE is random because the random input data array, and even the output is nan that is because it does have enough train data."
   ]
  },
  {
   "cell_type": "markdown",
   "metadata": {
    "id": "7j8y3Kg5Yf2p"
   },
   "source": [
    "## ***Q2: Please explain what is w0 (weight 0), w1, and w2 in the model. What is the dimension of weights and why is it set to this dimension?***\n",
    "\n",
    " \n",
    "\n"
   ]
  },
  {
   "cell_type": "markdown",
   "metadata": {
    "id": "KwlsTtk07JBN"
   },
   "source": [
    "w0,w1,w2 are the weights of different sample a0 a1 a2 with hidden layer in the network. We can use these weights to multiply input samples to make prediction to get output. If there are 2 feathers/samples, w0 is 2*10=20 w1=10*2=20 w3=1*2=2."
   ]
  },
  {
   "cell_type": "code",
   "execution_count": 35,
   "metadata": {
    "id": "gTs3ZyC__xEn"
   },
   "outputs": [],
   "source": []
  }
 ],
 "metadata": {
  "colab": {
   "collapsed_sections": [],
   "provenance": []
  },
  "kernelspec": {
   "display_name": "Python 3 (ipykernel)",
   "language": "python",
   "name": "python3"
  },
  "language_info": {
   "codemirror_mode": {
    "name": "ipython",
    "version": 3
   },
   "file_extension": ".py",
   "mimetype": "text/x-python",
   "name": "python",
   "nbconvert_exporter": "python",
   "pygments_lexer": "ipython3",
   "version": "3.9.12"
  }
 },
 "nbformat": 4,
 "nbformat_minor": 1
}
